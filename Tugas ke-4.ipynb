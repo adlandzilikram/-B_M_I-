{
 "cells": [
  {
   "cell_type": "code",
   "execution_count": 3,
   "metadata": {},
   "outputs": [
    {
     "name": "stdout",
     "output_type": "stream",
     "text": [
      "Masukkan Tinggi Badan Anda (cm): 122\n",
      "Masukkan Berat Badan Anda (kg): 10\n",
      "===============================\n",
      "BMI = 6.7186240257995165\n",
      "Status : Kekurangan Berat Badan\n",
      "===============================\n"
     ]
    }
   ],
   "source": [
    "ting = float(input(\"Masukkan Tinggi Badan Anda (cm): \"))\n",
    "ber = float(input(\"Masukkan Berat Badan Anda (kg): \"))\n",
    "ting = ting * 0.01\n",
    "bmi = ber/(ting**2)\n",
    "\n",
    "if bmi < 18.5 :\n",
    "    print(\"===============================\")\n",
    "    print(\"BMI =\", bmi )\n",
    "    print(\"Status : Kekurangan Berat Badan\")\n",
    "    print(\"===============================\")\n",
    "elif bmi > 18.5 and bmi < 24.9 :\n",
    "    print(\"===============================\")\n",
    "    print(\"BMI =\", bmi )\n",
    "    print(\"Status : Berat Badan Ideal\")\n",
    "    print(\"===============================\")\n",
    "else:\n",
    "    print(\"===============================\")\n",
    "    print(\"BMI =\", bmi )\n",
    "    print(\"Status : Kelebihan Berat Badan\")\n",
    "    print(\"===============================\")"
   ]
  },
  {
   "cell_type": "code",
   "execution_count": null,
   "metadata": {},
   "outputs": [],
   "source": []
  }
 ],
 "metadata": {
  "kernelspec": {
   "display_name": "Python 3",
   "language": "python",
   "name": "python3"
  },
  "language_info": {
   "codemirror_mode": {
    "name": "ipython",
    "version": 3
   },
   "file_extension": ".py",
   "mimetype": "text/x-python",
   "name": "python",
   "nbconvert_exporter": "python",
   "pygments_lexer": "ipython3",
   "version": "3.7.1"
  }
 },
 "nbformat": 4,
 "nbformat_minor": 2
}
